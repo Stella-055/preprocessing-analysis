{
 "cells": [
  {
   "cell_type": "code",
   "execution_count": 3,
   "metadata": {},
   "outputs": [
    {
     "name": "stdout",
     "output_type": "stream",
     "text": [
      "Path to dataset files: C:\\Users\\pc\\.cache\\kagglehub\\datasets\\wcukierski\\enron-email-dataset\\versions\\2\n"
     ]
    }
   ],
   "source": [
    "import kagglehub\n",
    "\n",
    "# Download latest version\n",
    "path = kagglehub.dataset_download(\"wcukierski/enron-email-dataset\")\n",
    "\n",
    "print(\"Path to dataset files:\", path)"
   ]
  },
  {
   "cell_type": "code",
   "execution_count": 19,
   "metadata": {},
   "outputs": [
    {
     "name": "stdout",
     "output_type": "stream",
     "text": [
      "Dataset Files: ['emails.csv']\n"
     ]
    },
    {
     "name": "stderr",
     "output_type": "stream",
     "text": [
      "[nltk_data] Downloading package stopwords to\n",
      "[nltk_data]     C:\\Users\\pc\\AppData\\Roaming\\nltk_data...\n",
      "[nltk_data]   Package stopwords is already up-to-date!\n",
      "[nltk_data] Downloading package punkt to\n",
      "[nltk_data]     C:\\Users\\pc\\AppData\\Roaming\\nltk_data...\n",
      "[nltk_data]   Package punkt is already up-to-date!\n"
     ]
    }
   ],
   "source": [
    "import os\n",
    "import re\n",
    "import string\n",
    "import nltk\n",
    "import matplotlib.pyplot as plt\n",
    "\n",
    "from sklearn.model_selection import train_test_split\n",
    "from sklearn.feature_extraction.text import TfidfVectorizer\n",
    "from sklearn.preprocessing import StandardScaler, LabelEncoder\n",
    "from imblearn.over_sampling import SMOTE\n",
    "from sklearn.feature_selection import SelectKBest, chi2\n",
    "from sklearn.decomposition import PCA\n",
    "from sklearn.preprocessing import LabelEncoder\n",
    "from sklearn.ensemble import RandomForestClassifier\n",
    "from sklearn.metrics import accuracy_score\n",
    "\n",
    "# Download necessary NLTK resources\n",
    "nltk.download(\"stopwords\")\n",
    "nltk.download(\"punkt\")\n",
    "\n",
    "# List all files in the dataset directory\n",
    "files = os.listdir(path)\n",
    "print(\"Dataset Files:\", files)"
   ]
  },
  {
   "cell_type": "code",
   "execution_count": 5,
   "metadata": {},
   "outputs": [
    {
     "name": "stdout",
     "output_type": "stream",
     "text": [
      "                       file  \\\n",
      "0     allen-p/_sent_mail/1.   \n",
      "1    allen-p/_sent_mail/10.   \n",
      "2   allen-p/_sent_mail/100.   \n",
      "3  allen-p/_sent_mail/1000.   \n",
      "4  allen-p/_sent_mail/1001.   \n",
      "\n",
      "                                             message  Threat  \n",
      "0  Message-ID: <18782981.1075855378110.JavaMail.e...       1  \n",
      "1  Message-ID: <15464986.1075855378456.JavaMail.e...       1  \n",
      "2  Message-ID: <24216240.1075855687451.JavaMail.e...       1  \n",
      "3  Message-ID: <13505866.1075863688222.JavaMail.e...       1  \n",
      "4  Message-ID: <30922949.1075863688243.JavaMail.e...       1  \n"
     ]
    }
   ],
   "source": [
    "import pandas as pd\n",
    "import numpy as np\n",
    "\n",
    "df = pd.read_csv(os.path.join(path, \"emails.csv\"))\n",
    "# Map Threat column to numerical (Yes -> 1, No -> 0)\n",
    "df[\"Threat\"] = np.random.choice([\"Yes\", \"No\"], size=len(df), p=[0.5, 0.5])\n",
    "df[\"Threat\"] = df[\"Threat\"].map({\"Yes\": 1, \"No\": 0})\n",
    "# Display first few rows\n",
    "print(df.head(5))\n"
   ]
  },
  {
   "cell_type": "code",
   "execution_count": 6,
   "metadata": {},
   "outputs": [
    {
     "name": "stdout",
     "output_type": "stream",
     "text": [
      "Dataset Shape: (517401, 3)\n",
      "<class 'pandas.core.frame.DataFrame'>\n",
      "RangeIndex: 517401 entries, 0 to 517400\n",
      "Data columns (total 3 columns):\n",
      " #   Column   Non-Null Count   Dtype \n",
      "---  ------   --------------   ----- \n",
      " 0   file     517401 non-null  object\n",
      " 1   message  517401 non-null  object\n",
      " 2   Threat   517401 non-null  int64 \n",
      "dtypes: int64(1), object(2)\n",
      "memory usage: 11.8+ MB\n",
      "None\n",
      "              Threat\n",
      "count  517401.000000\n",
      "mean        0.499698\n",
      "std         0.500000\n",
      "min         0.000000\n",
      "25%         0.000000\n",
      "50%         0.000000\n",
      "75%         1.000000\n",
      "max         1.000000\n",
      "file       0\n",
      "message    0\n",
      "Threat     0\n",
      "dtype: int64\n"
     ]
    }
   ],
   "source": [
    "print(\"Dataset Shape:\", df.shape)\n",
    "\n",
    "print(df.info())  # Overview of columns and data types\n",
    "print(df.describe())  # Summary statistics\n",
    "print(df.isnull().sum())  # Count of missing values"
   ]
  },
  {
   "cell_type": "code",
   "execution_count": 7,
   "metadata": {},
   "outputs": [
    {
     "name": "stderr",
     "output_type": "stream",
     "text": [
      "[nltk_data] Downloading package stopwords to\n",
      "[nltk_data]     C:\\Users\\pc\\AppData\\Roaming\\nltk_data...\n",
      "[nltk_data]   Package stopwords is already up-to-date!\n"
     ]
    }
   ],
   "source": [
    "from nltk.corpus import stopwords\n",
    "nltk.download(\"stopwords\")\n",
    "stop_words = set(stopwords.words(\"english\"))\n",
    "# Function to preprocess text\n",
    "def preprocess_text(text):\n",
    "    if not isinstance(text, str):  # Handle missing or non-string values\n",
    "        return \"\"\n",
    "    \n",
    "    text = text.lower()  # Convert to lowercase\n",
    "    text = re.sub(r\"\\d+\", \"\", text)  # Remove numbers\n",
    "    text = text.translate(str.maketrans(\"\", \"\", string.punctuation))  # Remove punctuation\n",
    "    text = \" \".join(word for word in text.split() if word not in stop_words)  # Remove stopwords\n",
    "    return text"
   ]
  },
  {
   "cell_type": "code",
   "execution_count": 32,
   "metadata": {},
   "outputs": [],
   "source": [
    "df_sample = df.sample(n=40000, random_state=42)  # Use 40,000 samples"
   ]
  },
  {
   "cell_type": "code",
   "execution_count": 33,
   "metadata": {},
   "outputs": [],
   "source": [
    "# Apply text preprocessing\n",
    "df_sample[\"file\"] = df_sample[\"file\"].astype(str)\n",
    "df_sample[\"clean_file\"] = df_sample[\"file\"].apply(preprocess_text)\n",
    "\n",
    "df_sample[\"message\"] = df_sample[\"message\"].astype(str)\n",
    "df_sample[\"clean_message\"] = df_sample[\"message\"].apply(preprocess_text)"
   ]
  },
  {
   "cell_type": "code",
   "execution_count": 34,
   "metadata": {},
   "outputs": [],
   "source": [
    "vectorizer = TfidfVectorizer(max_features=1000)\n",
    "X_file = vectorizer.fit_transform(df_sample[\"clean_file\"])\n",
    "\n",
    "# Convert to DataFrame with actual words as column names\n",
    "X_file_df = pd.DataFrame(X_file.toarray(), columns=vectorizer.get_feature_names_out())\n",
    "\n",
    "X_file_df = X_file_df.reset_index(drop=True)\n",
    "\n",
    "X_message = vectorizer.fit_transform(df_sample[\"clean_message\"])\n",
    "\n",
    "# Convert to DataFrame with actual words as column names\n",
    "X_message_df = pd.DataFrame(X_message.toarray(), columns=vectorizer.get_feature_names_out())\n",
    "\n",
    "X_message_df = X_message_df.reset_index(drop=True)\n",
    "\n",
    "\n",
    "X = pd.concat([X_file_df, X_message_df], axis=1)\n",
    "y = df_sample[\"Threat\"]"
   ]
  },
  {
   "cell_type": "code",
   "execution_count": 15,
   "metadata": {},
   "outputs": [
    {
     "name": "stdout",
     "output_type": "stream",
     "text": [
      "20000 20000\n"
     ]
    }
   ],
   "source": [
    "print(len(X), len(y))  # They should be the same"
   ]
  },
  {
   "cell_type": "code",
   "execution_count": 35,
   "metadata": {},
   "outputs": [],
   "source": [
    "X_train, X_test, y_train, y_test = train_test_split(X, y, test_size=0.2, random_state=42)"
   ]
  },
  {
   "cell_type": "code",
   "execution_count": 36,
   "metadata": {},
   "outputs": [
    {
     "name": "stdout",
     "output_type": "stream",
     "text": [
      "Baseline Model Accuracy (Raw Data): 0.51425\n"
     ]
    }
   ],
   "source": [
    "# Function to train model and return accuracy\n",
    "def train_and_evaluate(X_train, X_test, y_train, y_test):\n",
    "    model =  RandomForestClassifier()\n",
    "    model.fit(X_train, y_train)\n",
    "    y_pred = model.predict(X_test)\n",
    "    return accuracy_score(y_test, y_pred)\n",
    "\n",
    "# Baseline Model (Raw Data)\n",
    "accuracy_baseline = train_and_evaluate(X_train, X_test, y_train, y_test)\n",
    "print(\"Baseline Model Accuracy (Raw Data):\", accuracy_baseline)"
   ]
  },
  {
   "cell_type": "code",
   "execution_count": 37,
   "metadata": {},
   "outputs": [
    {
     "name": "stdout",
     "output_type": "stream",
     "text": [
      "Baseline Model Accuracy (Raw Data): 0.499625\n"
     ]
    }
   ],
   "source": [
    "# Function to train model and return accuracy\n",
    "def train_and_evaluate(X_train, X_test, y_train, y_test):\n",
    "    model =  RandomForestClassifier()\n",
    "    model.fit(X_train, y_train)\n",
    "    y_pred = model.predict(X_test)\n",
    "    return accuracy_score(y_test, y_pred)\n",
    "\n",
    "# encoded or vecotrized data\n",
    "accuracy_encoded = train_and_evaluate(X_train, X_test, y_train, y_test)\n",
    "print(\"Baseline Model Accuracy (Raw Data):\", accuracy_encoded)"
   ]
  },
  {
   "cell_type": "code",
   "execution_count": 38,
   "metadata": {},
   "outputs": [
    {
     "name": "stdout",
     "output_type": "stream",
     "text": [
      "Standardized Model Accuracy: 0.5045\n"
     ]
    }
   ],
   "source": [
    "# Standardization\n",
    "scaler = StandardScaler()\n",
    "X_train_scaled = scaler.fit_transform(X_train)\n",
    "X_test_scaled = scaler.transform(X_test)\n",
    "accuracy_standardized = train_and_evaluate(X_train_scaled, X_test_scaled, y_train, y_test)\n",
    "print(\"Standardized Model Accuracy:\", accuracy_standardized)"
   ]
  },
  {
   "cell_type": "code",
   "execution_count": 39,
   "metadata": {},
   "outputs": [
    {
     "name": "stderr",
     "output_type": "stream",
     "text": [
      "C:\\Users\\pc\\AppData\\Roaming\\Python\\Python312\\site-packages\\sklearn\\feature_selection\\_univariate_selection.py:776: UserWarning: k=3000 is greater than n_features=2000. All the features will be returned.\n",
      "  warnings.warn(\n"
     ]
    },
    {
     "name": "stdout",
     "output_type": "stream",
     "text": [
      "Feature Selection Model Accuracy: 0.499\n"
     ]
    }
   ],
   "source": [
    "# Feature Selection (Select best 3000 features)\n",
    "selector = SelectKBest(chi2, k=3000)\n",
    "X_train_selected = selector.fit_transform(X_train, y_train)\n",
    "X_test_selected = selector.transform(X_test)\n",
    "accuracy_feature_selection = train_and_evaluate(X_train_selected, X_test_selected, y_train, y_test)\n",
    "print(\"Feature Selection Model Accuracy:\", accuracy_feature_selection)"
   ]
  },
  {
   "cell_type": "code",
   "execution_count": 25,
   "metadata": {},
   "outputs": [
    {
     "name": "stdout",
     "output_type": "stream",
     "text": [
      "SMOTE Model Accuracy: 0.50275\n"
     ]
    }
   ],
   "source": [
    "# SMOTE (Handle Imbalanced Data)\n",
    "smote = SMOTE(random_state=42)\n",
    "X_train_smote, y_train_smote = smote.fit_resample(X_train, y_train)\n",
    "accuracy_smote = train_and_evaluate(X_train_smote, X_test, y_train_smote, y_test)\n",
    "\n",
    "print(\"SMOTE Model Accuracy:\", accuracy_smote)"
   ]
  },
  {
   "cell_type": "code",
   "execution_count": 40,
   "metadata": {},
   "outputs": [
    {
     "name": "stdout",
     "output_type": "stream",
     "text": [
      "PCA Model Accuracy: 0.503625\n"
     ]
    }
   ],
   "source": [
    "# PCA (Reduce to 300 components)\n",
    "pca = PCA(n_components=300)\n",
    "X_train_pca = pca.fit_transform(X_train)\n",
    "X_test_pca = pca.transform(X_test)\n",
    "accuracy_pca = train_and_evaluate(X_train_pca, X_test_pca, y_train, y_test)\n",
    "print(\"PCA Model Accuracy:\", accuracy_pca) "
   ]
  },
  {
   "cell_type": "code",
   "execution_count": 41,
   "metadata": {},
   "outputs": [
    {
     "name": "stdout",
     "output_type": "stream",
     "text": [
      "dict_values([0.51425, 0.5045, 0.50275, 0.499, 0.503625, 0.499625])\n"
     ]
    },
    {
     "data": {
      "image/png": "[encoded data removed]",
      "text/plain": [
       "<Figure size 600x600 with 1 Axes>"
      ]
     },
     "metadata": {},
     "output_type": "display_data"
    }
   ],
   "source": [
    "# Store Accuracy Scores\n",
    "accuracy_percentages = {\n",
    "    \"Baseline\": accuracy_baseline ,\n",
    "    \"Standardization\": accuracy_standardized,\n",
    "    \"SMOTE\": accuracy_smote ,\n",
    "    \"Feature Selection\": accuracy_feature_selection ,\n",
    "    \"PCA\": accuracy_pca ,\n",
    "    \"Encoding\": accuracy_encoded\n",
    "}\n",
    "print(accuracy_percentages.values())\n",
    "# Pie chart\n",
    "# Divide each value by the number of categories to make them sum to 100%\n",
    "num_categories = len(accuracy_percentages)\n",
    "accuracy_percentages = {k: v / num_categories for k, v in accuracy_percentages.items()}\n",
    "\n",
    "# Plot the pie chart\n",
    "plt.figure(figsize=(6, 6))\n",
    "plt.pie(accuracy_percentages.values(), labels=accuracy_percentages.keys(), autopct='%1.2f%%', startangle=140)\n",
    "plt.title(\"Model Accuracy Comparison\")\n",
    "plt.show()"
   ]
  },
  {
   "cell_type": "code",
   "execution_count": 42,
   "metadata": {},
   "outputs": [
    {
     "data": {
      "image/png": "[encoded data removed]",
      "text/plain": [
       "<Figure size 800x600 with 1 Axes>"
      ]
     },
     "metadata": {},
     "output_type": "display_data"
    }
   ],
   "source": [
    "accuracies = [\n",
    "    (\"Baseline\", accuracy_baseline * 100),\n",
    "    (\"Standardization\", accuracy_standardized * 100),\n",
    "    (\"SMOTE\", accuracy_smote * 100),\n",
    "    (\"Feature Selection\", accuracy_feature_selection * 100),\n",
    "    (\"PCA\",accuracy_pca * 100),\n",
    "    (\"Encoding\",accuracy_encoded * 100)\n",
    "]\n",
    "\n",
    "# Extract model names and accuracy values\n",
    "model_names = [model[0] for model in accuracies]\n",
    "accuracy_values = [model[1] for model in accuracies]\n",
    "\n",
    "# Create the histogram\n",
    "plt.figure(figsize=(8, 6))\n",
    "plt.bar(model_names, accuracy_values, color='skyblue', edgecolor='black')\n",
    "\n",
    "# Add title and labels\n",
    "plt.title(\"Model Accuracy Comparison\")\n",
    "plt.xlabel(\"Model\")\n",
    "plt.ylabel(\"Accuracy (%)\")\n",
    "\n",
    "# Show the plot\n",
    "plt.show()"
   ]
  },
  {
   "cell_type": "code",
   "execution_count": 43,
   "metadata": {},
   "outputs": [
    {
     "name": "stdout",
     "output_type": "stream",
     "text": [
      "               Model  Accuracy (%)\n",
      "0           Baseline       51.4250\n",
      "1    Standardization       50.4500\n",
      "2              SMOTE       50.2750\n",
      "3  Feature Selection       49.9000\n",
      "4                PCA       50.3625\n",
      "5           Encoding       49.9625\n"
     ]
    }
   ],
   "source": [
    "accuracies = [\n",
    "    (\"Baseline\", accuracy_baseline * 100),\n",
    "    (\"Standardization\",accuracy_standardized * 100),\n",
    "   \n",
    "    (\"SMOTE\", accuracy_smote * 100),\n",
    "    (\"Feature Selection\", accuracy_feature_selection * 100),\n",
    "    (\"PCA\", accuracy_pca* 100),\n",
    "    (\"Encoding\",accuracy_encoded * 100)\n",
    "]\n",
    "\n",
    "# Convert the list into a DataFrame\n",
    "accuracy_df = pd.DataFrame(accuracies, columns=[\"Model\", \"Accuracy (%)\"])\n",
    "\n",
    "# Display the table\n",
    "print(accuracy_df)"
   ]
  }
 ],
 "metadata": {
  "kernelspec": {
   "display_name": "Python 3",
   "language": "python",
   "name": "python3"
  },
  "language_info": {
   "codemirror_mode": {
    "name": "ipython",
    "version": 3
   },
   "file_extension": ".py",
   "mimetype": "text/x-python",
   "name": "python",
   "nbconvert_exporter": "python",
   "pygments_lexer": "ipython3",
   "version": "3.12.0"
  }
 },
 "nbformat": 4,
 "nbformat_minor": 2
}
