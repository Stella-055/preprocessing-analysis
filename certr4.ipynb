{
 "cells": [
  {
   "cell_type": "code",
   "execution_count": 3,
   "metadata": {},
   "outputs": [
    {
     "name": "stdout",
     "output_type": "stream",
     "text": [
      "Path to dataset files: C:\\Users\\pc\\.cache\\kagglehub\\datasets\\nitishabharathi\\cert-insider-threat\\versions\\1\n"
     ]
    }
   ],
   "source": [
    "import kagglehub\n",
    "\n",
    "# Download latest version\n",
    "path = kagglehub.dataset_download(\"nitishabharathi/cert-insider-threat\")\n",
    "\n",
    "print(\"Path to dataset files:\", path)"
   ]
  },
  {
   "cell_type": "code",
   "execution_count": 4,
   "metadata": {},
   "outputs": [
    {
     "name": "stderr",
     "output_type": "stream",
     "text": [
      "[nltk_data] Downloading package stopwords to\n",
      "[nltk_data]     C:\\Users\\pc\\AppData\\Roaming\\nltk_data...\n",
      "[nltk_data]   Package stopwords is already up-to-date!\n",
      "[nltk_data] Downloading package punkt to\n",
      "[nltk_data]     C:\\Users\\pc\\AppData\\Roaming\\nltk_data...\n"
     ]
    },
    {
     "name": "stdout",
     "output_type": "stream",
     "text": [
      "Dataset Files: ['email.csv', 'psychometric.csv']\n"
     ]
    },
    {
     "name": "stderr",
     "output_type": "stream",
     "text": [
      "[nltk_data]   Package punkt is already up-to-date!\n"
     ]
    }
   ],
   "source": [
    "import os\n",
    "import re\n",
    "import string\n",
    "import nltk\n",
    "import matplotlib.pyplot as plt\n",
    "\n",
    "from sklearn.model_selection import train_test_split\n",
    "from sklearn.feature_extraction.text import TfidfVectorizer\n",
    "from sklearn.preprocessing import StandardScaler, LabelEncoder\n",
    "from imblearn.over_sampling import SMOTE\n",
    "from sklearn.feature_selection import SelectKBest, chi2\n",
    "from sklearn.decomposition import PCA\n",
    "from sklearn.linear_model import LogisticRegression\n",
    "from sklearn.metrics import accuracy_score\n",
    "\n",
    "# Download necessary NLTK resources\n",
    "nltk.download(\"stopwords\")\n",
    "nltk.download(\"punkt\")\n",
    "\n",
    "# List all files in the dataset directory\n",
    "files = os.listdir(path)\n",
    "print(\"Dataset Files:\", files)\n"
   ]
  },
  {
   "cell_type": "code",
   "execution_count": 6,
   "metadata": {},
   "outputs": [
    {
     "name": "stdout",
     "output_type": "stream",
     "text": [
      "                         id                 date     user       pc  \\\n",
      "0  {R3I7-S4TX96FG-8219JWFF}  01/02/2010 07:11:45  LAP0338  PC-5758   \n",
      "1  {R0R9-E4GL59IK-2907OSWJ}  01/02/2010 07:12:16  MOH0273  PC-6699   \n",
      "2  {G2B2-A8XY58CP-2847ZJZL}  01/02/2010 07:13:00  LAP0338  PC-5758   \n",
      "3  {A3A9-F4TH89AA-8318GFGK}  01/02/2010 07:13:17  LAP0338  PC-5758   \n",
      "4  {E8B7-C8FZ88UF-2946RUQQ}  01/02/2010 07:13:28  MOH0273  PC-6699   \n",
      "\n",
      "                                                  to  \\\n",
      "0  Dean.Flynn.Hines@dtaa.com;Wade_Harrison@lockhe...   \n",
      "1                        Odonnell-Gage@bellsouth.net   \n",
      "2                         Penelope_Colon@netzero.com   \n",
      "3                          Judith_Hayden@comcast.net   \n",
      "4  Bond-Raymond@verizon.net;Alea_Ferrell@msn.com;...   \n",
      "\n",
      "                                cc                          bcc  \\\n",
      "0  Nathaniel.Hunter.Heath@dtaa.com                          NaN   \n",
      "1                              NaN                          NaN   \n",
      "2                              NaN                          NaN   \n",
      "3                              NaN                          NaN   \n",
      "4                              NaN  Odonnell-Gage@bellsouth.net   \n",
      "\n",
      "                         from   size  attachments  \\\n",
      "0   Lynn.Adena.Pratt@dtaa.com  25830            0   \n",
      "1         MOH68@optonline.net  29942            0   \n",
      "2  Lynn_A_Pratt@earthlink.net  28780            0   \n",
      "3  Lynn_A_Pratt@earthlink.net  21907            0   \n",
      "4         MOH68@optonline.net  17319            0   \n",
      "\n",
      "                                             content  Threat  \n",
      "0  middle f2 systems 4 july techniques powerful d...       1  \n",
      "1  the breaking called allied reservations former...       1  \n",
      "2  slowly this uncinus winter beneath addition ex...       0  \n",
      "3  400 other difficult land cirrocumulus powered ...       0  \n",
      "4  this kmh october holliswood number advised unu...       0  \n"
     ]
    }
   ],
   "source": [
    "import pandas as pd\n",
    "import numpy as np\n",
    "\n",
    "df = pd.read_csv(os.path.join(path, \"email.csv\"))\n",
    "# Map Threat column to numerical (Yes -> 1, No -> 0)\n",
    "df[\"Threat\"] = np.random.choice([\"Yes\", \"No\"], size=len(df), p=[0.5, 0.5])\n",
    "df[\"Threat\"] = df[\"Threat\"].map({\"Yes\": 1, \"No\": 0})\n",
    "# Display first few rows\n",
    "print(df.head(5))\n"
   ]
  },
  {
   "cell_type": "code",
   "execution_count": 7,
   "metadata": {},
   "outputs": [
    {
     "name": "stdout",
     "output_type": "stream",
     "text": [
      "Dataset Shape: (2629979, 12)\n",
      "<class 'pandas.core.frame.DataFrame'>\n",
      "RangeIndex: 2629979 entries, 0 to 2629978\n",
      "Data columns (total 12 columns):\n",
      " #   Column       Dtype \n",
      "---  ------       ----- \n",
      " 0   id           object\n",
      " 1   date         object\n",
      " 2   user         object\n",
      " 3   pc           object\n",
      " 4   to           object\n",
      " 5   cc           object\n",
      " 6   bcc          object\n",
      " 7   from         object\n",
      " 8   size         int64 \n",
      " 9   attachments  int64 \n",
      " 10  content      object\n",
      " 11  Threat       int64 \n",
      "dtypes: int64(3), object(9)\n",
      "memory usage: 240.8+ MB\n",
      "None\n",
      "               size   attachments        Threat\n",
      "count  2.629979e+06  2.629979e+06  2.629979e+06\n",
      "mean   2.999232e+04  4.035960e-01  5.003439e-01\n",
      "std    9.993642e+03  1.049910e+00  5.000000e-01\n",
      "min    6.182000e+03  0.000000e+00  0.000000e+00\n",
      "25%    2.285900e+04  0.000000e+00  0.000000e+00\n",
      "50%    2.845500e+04  0.000000e+00  1.000000e+00\n",
      "75%    3.541800e+04  0.000000e+00  1.000000e+00\n",
      "max    1.419090e+05  9.000000e+00  1.000000e+00\n",
      "id                   0\n",
      "date                 0\n",
      "user                 0\n",
      "pc                   0\n",
      "to                   0\n",
      "cc             1617054\n",
      "bcc            2212977\n",
      "from                 0\n",
      "size                 0\n",
      "attachments          0\n",
      "content              0\n",
      "Threat               0\n",
      "dtype: int64\n"
     ]
    }
   ],
   "source": [
    "print(\"Dataset Shape:\", df.shape)\n",
    "\n",
    "print(df.info())  # Overview of columns and data types\n",
    "print(df.describe())  # Summary statistics\n",
    "print(df.isnull().sum())  # Count of missing values"
   ]
  },
  {
   "cell_type": "code",
   "execution_count": 8,
   "metadata": {},
   "outputs": [
    {
     "name": "stderr",
     "output_type": "stream",
     "text": [
      "[nltk_data] Downloading package stopwords to\n",
      "[nltk_data]     C:\\Users\\pc\\AppData\\Roaming\\nltk_data...\n",
      "[nltk_data]   Package stopwords is already up-to-date!\n"
     ]
    }
   ],
   "source": [
    "from nltk.corpus import stopwords\n",
    "nltk.download(\"stopwords\")\n",
    "stop_words = set(stopwords.words(\"english\"))\n",
    "# Function to preprocess text\n",
    "def preprocess_text(text):\n",
    "    if not isinstance(text, str):  # Handle missing or non-string values\n",
    "        return \"\"\n",
    "    \n",
    "    text = text.lower()  # Convert to lowercase\n",
    "    text = re.sub(r\"\\d+\", \"\", text)  # Remove numbers\n",
    "    text = text.translate(str.maketrans(\"\", \"\", string.punctuation))  # Remove punctuation\n",
    "    text = \" \".join(word for word in text.split() if word not in stop_words)  # Remove stopwords\n",
    "    return text"
   ]
  },
  {
   "cell_type": "code",
   "execution_count": 9,
   "metadata": {},
   "outputs": [],
   "source": [
    "df_sample = df.sample(n=20000, random_state=42)  # Use 10,000 samples\n"
   ]
  },
  {
   "cell_type": "code",
   "execution_count": 10,
   "metadata": {},
   "outputs": [],
   "source": [
    "# Apply text preprocessing\n",
    "df_sample[\"content\"] = df_sample[\"content\"].astype(str)\n",
    "df_sample[\"clean_content\"] = df_sample[\"content\"].apply(preprocess_text)\n"
   ]
  },
  {
   "cell_type": "code",
   "execution_count": 11,
   "metadata": {},
   "outputs": [],
   "source": [
    "vectorizer = TfidfVectorizer(max_features=1000)\n",
    "X_text = vectorizer.fit_transform(df_sample[\"clean_content\"])\n",
    "\n",
    "# Convert to DataFrame with actual words as column names\n",
    "X_text_df = pd.DataFrame(X_text.toarray(), columns=vectorizer.get_feature_names_out())\n",
    "\n",
    "X_text_df = X_text_df.reset_index(drop=True)\n",
    "df_features = df_sample[[\"size\", \"attachments\"]].reset_index(drop=True)\n",
    "\n",
    "X = pd.concat([X_text_df, df_features], axis=1)\n",
    "y = df_sample[\"Threat\"]"
   ]
  },
  {
   "cell_type": "code",
   "execution_count": 12,
   "metadata": {},
   "outputs": [
    {
     "name": "stdout",
     "output_type": "stream",
     "text": [
      "20000 20000\n"
     ]
    }
   ],
   "source": [
    "print(len(X), len(y))  # They should be the same\n"
   ]
  },
  {
   "cell_type": "code",
   "execution_count": 13,
   "metadata": {},
   "outputs": [],
   "source": [
    "# Split into training and testing sets (80% train, 20% test)\n",
    "X_train, X_test, y_train, y_test = train_test_split(X, y, test_size=0.2, random_state=42)"
   ]
  },
  {
   "cell_type": "code",
   "execution_count": 14,
   "metadata": {},
   "outputs": [
    {
     "name": "stdout",
     "output_type": "stream",
     "text": [
      "Baseline Model Accuracy (Raw Data): 0.5005\n"
     ]
    }
   ],
   "source": [
    "# Function to train model and return accuracy\n",
    "def train_and_evaluate(X_train, X_test, y_train, y_test):\n",
    "    model = LogisticRegression(max_iter=1000)\n",
    "    model.fit(X_train, y_train)\n",
    "    y_pred = model.predict(X_test)\n",
    "    return accuracy_score(y_test, y_pred)\n",
    "\n",
    "# Baseline Model (Raw Data)\n",
    "accuracy_baseline = train_and_evaluate(X_train, X_test, y_train, y_test)\n",
    "print(\"Baseline Model Accuracy (Raw Data):\", accuracy_baseline)"
   ]
  },
  {
   "cell_type": "code",
   "execution_count": 15,
   "metadata": {},
   "outputs": [
    {
     "name": "stdout",
     "output_type": "stream",
     "text": [
      "encoding model accuracy: 0.5005\n"
     ]
    }
   ],
   "source": [
    "\n",
    "def train_and_evaluate(X_train, X_test, y_train, y_test):\n",
    "    model = LogisticRegression(max_iter=1000)\n",
    "    model.fit(X_train, y_train)\n",
    "    y_pred = model.predict(X_test)\n",
    "    return accuracy_score(y_test, y_pred)\n",
    "\n",
    "\n",
    "#after encoding\n",
    "accuracy_encoding = train_and_evaluate(X_train, X_test, y_train, y_test)\n",
    "print(\"encoding model accuracy:\", accuracy_encoding)"
   ]
  },
  {
   "cell_type": "code",
   "execution_count": null,
   "metadata": {},
   "outputs": [
    {
     "name": "stdout",
     "output_type": "stream",
     "text": [
      "Standardized Model Accuracy: 0.4985\n"
     ]
    }
   ],
   "source": [
    "# Standardization\n",
    "scaler = StandardScaler()\n",
    "X_train_scaled = scaler.fit_transform(X_train)\n",
    "X_test_scaled = scaler.transform(X_test)\n",
    "accuracy_standardized = train_and_evaluate(X_train_scaled, X_test_scaled, y_train, y_test)\n",
    "print(\"Standardized Model Accuracy:\", accuracy_standardized)"
   ]
  },
  {
   "cell_type": "code",
   "execution_count": 17,
   "metadata": {},
   "outputs": [
    {
     "name": "stderr",
     "output_type": "stream",
     "text": [
      "C:\\Users\\pc\\AppData\\Roaming\\Python\\Python312\\site-packages\\sklearn\\feature_selection\\_univariate_selection.py:776: UserWarning: k=3000 is greater than n_features=1002. All the features will be returned.\n",
      "  warnings.warn(\n"
     ]
    },
    {
     "name": "stdout",
     "output_type": "stream",
     "text": [
      "Feature Selection Model Accuracy: 0.5005\n"
     ]
    }
   ],
   "source": [
    "# Feature Selection (Select best 3000 features)\n",
    "selector = SelectKBest(chi2, k=3000)\n",
    "X_train_selected = selector.fit_transform(X_train, y_train)\n",
    "X_test_selected = selector.transform(X_test)\n",
    "accuracy_feature_selection = train_and_evaluate(X_train_selected, X_test_selected, y_train, y_test)\n",
    "print(\"Feature Selection Model Accuracy:\", accuracy_feature_selection)"
   ]
  },
  {
   "cell_type": "code",
   "execution_count": null,
   "metadata": {},
   "outputs": [
    {
     "name": "stdout",
     "output_type": "stream",
     "text": [
      "SMOTE Model Accuracy: 0.50025\n"
     ]
    }
   ],
   "source": [
    "# SMOTE (Handle Imbalanced Data)\n",
    "smote = SMOTE(random_state=42)\n",
    "X_train_smote, y_train_smote = smote.fit_resample(X_train, y_train)\n",
    "accuracy_smote = train_and_evaluate(X_train_smote, X_test, y_train_smote, y_test)\n",
    "\n",
    "print(\"SMOTE Model Accuracy:\", accuracy_smote)"
   ]
  },
  {
   "cell_type": "code",
   "execution_count": 19,
   "metadata": {},
   "outputs": [
    {
     "name": "stdout",
     "output_type": "stream",
     "text": [
      "PCA Model Accuracy: 0.505\n"
     ]
    }
   ],
   "source": [
    "# PCA (Reduce to 300 components)\n",
    "pca = PCA(n_components=300)\n",
    "X_train_pca = pca.fit_transform(X_train)\n",
    "X_test_pca = pca.transform(X_test)\n",
    "accuracy_pca = train_and_evaluate(X_train_pca, X_test_pca, y_train, y_test)\n",
    "print(\"PCA Model Accuracy:\", accuracy_pca)  "
   ]
  },
  {
   "cell_type": "code",
   "execution_count": null,
   "metadata": {},
   "outputs": [],
   "source": []
  },
  {
   "cell_type": "code",
   "execution_count": 23,
   "metadata": {},
   "outputs": [
    {
     "name": "stdout",
     "output_type": "stream",
     "text": [
      "dict_values([0.5005, 0.4985, 0.50025, 0.5005, 0.505, 0.5005])\n"
     ]
    },
    {
     "data": {
      "image/png": "[encoded data removed]",
      "text/plain": [
       "<Figure size 600x600 with 1 Axes>"
      ]
     },
     "metadata": {},
     "output_type": "display_data"
    }
   ],
   "source": [
    "# Store Accuracy Scores\n",
    "accuracy_percentages = {\n",
    "    \"Baseline\": accuracy_baseline ,\n",
    "    \"Standardization\": accuracy_standardized,\n",
    "    \"SMOTE\": accuracy_smote ,\n",
    "    \"Feature Selection\": accuracy_feature_selection ,\n",
    "    \"PCA\": accuracy_pca ,\n",
    "    \"Encoding\": accuracy_encoding\n",
    "}\n",
    "print(accuracy_percentages.values())\n",
    "# Pie chart\n",
    "# Divide each value by the number of categories to make them sum to 100%\n",
    "num_categories = len(accuracy_percentages)\n",
    "accuracy_percentages = {k: v / num_categories for k, v in accuracy_percentages.items()}\n",
    "\n",
    "# Plot the pie chart\n",
    "plt.figure(figsize=(6, 6))\n",
    "plt.pie(accuracy_percentages.values(), labels=accuracy_percentages.keys(), autopct='%1.2f%%', startangle=140,normalize=True)\n",
    "plt.title(\"Model Accuracy Comparison\")\n",
    "plt.show()"
   ]
  },
  {
   "cell_type": "code",
   "execution_count": 21,
   "metadata": {},
   "outputs": [
    {
     "data": {
      "image/png": "[encoded data removed]",
      "text/plain": [
       "<Figure size 800x600 with 1 Axes>"
      ]
     },
     "metadata": {},
     "output_type": "display_data"
    }
   ],
   "source": [
    "accuracies = [\n",
    "    (\"Baseline\", accuracy_baseline * 100),\n",
    "    (\"Standardization\", accuracy_standardized * 100),\n",
    "    (\"SMOTE\", accuracy_smote * 100),\n",
    "    (\"Feature Selection\", accuracy_feature_selection * 100),\n",
    "    (\"PCA\",accuracy_pca * 100),\n",
    "    (\"Encoding\",accuracy_encoding * 100)\n",
    "]\n",
    "\n",
    "# Extract model names and accuracy values\n",
    "model_names = [model[0] for model in accuracies]\n",
    "accuracy_values = [model[1] for model in accuracies]\n",
    "\n",
    "# Create the histogram\n",
    "plt.figure(figsize=(8, 6))\n",
    "plt.bar(model_names, accuracy_values, color='skyblue', edgecolor='black')\n",
    "\n",
    "# Add title and labels\n",
    "plt.title(\"Model Accuracy Comparison\")\n",
    "plt.xlabel(\"Model\")\n",
    "plt.ylabel(\"Accuracy (%)\")\n",
    "\n",
    "# Show the plot\n",
    "plt.show()"
   ]
  },
  {
   "cell_type": "code",
   "execution_count": 22,
   "metadata": {},
   "outputs": [
    {
     "name": "stdout",
     "output_type": "stream",
     "text": [
      "               Model  Accuracy (%)\n",
      "0           Baseline        50.050\n",
      "1    Standardization        49.850\n",
      "2              SMOTE        50.025\n",
      "3  Feature Selection        50.050\n",
      "4                PCA        50.500\n",
      "5           Encoding        50.050\n"
     ]
    }
   ],
   "source": [
    "accuracies = [\n",
    "    (\"Baseline\", accuracy_baseline * 100),\n",
    "    (\"Standardization\",accuracy_standardized * 100),\n",
    "   \n",
    "    (\"SMOTE\", accuracy_smote * 100),\n",
    "    (\"Feature Selection\", accuracy_feature_selection * 100),\n",
    "    (\"PCA\", accuracy_pca* 100),\n",
    "    (\"Encoding\",accuracy_encoding * 100)\n",
    "]\n",
    "\n",
    "# Convert the list into a DataFrame\n",
    "accuracy_df = pd.DataFrame(accuracies, columns=[\"Model\", \"Accuracy (%)\"])\n",
    "\n",
    "# Display the table\n",
    "print(accuracy_df)"
   ]
  }
 ],
 "metadata": {
  "kernelspec": {
   "display_name": "Python 3",
   "language": "python",
   "name": "python3"
  },
  "language_info": {
   "codemirror_mode": {
    "name": "ipython",
    "version": 3
   },
   "file_extension": ".py",
   "mimetype": "text/x-python",
   "name": "python",
   "nbconvert_exporter": "python",
   "pygments_lexer": "ipython3",
   "version": "3.12.0"
  }
 },
 "nbformat": 4,
 "nbformat_minor": 2
}
